{
 "cells": [
  {
   "cell_type": "code",
   "execution_count": 1,
   "id": "local-madrid",
   "metadata": {},
   "outputs": [],
   "source": [
    "import pandas as pd"
   ]
  },
  {
   "cell_type": "code",
   "execution_count": 2,
   "id": "southern-viking",
   "metadata": {},
   "outputs": [],
   "source": [
    "# Загрузка копии формы 509 с сайта КИАС\n",
    "tfile = 'Book1.tsv'\n",
    "tabdata = pd.read_csv(tfile,sep='\\t',header=None,names=['a','b','c'])"
   ]
  },
  {
   "cell_type": "code",
   "execution_count": 3,
   "id": "biblical-census",
   "metadata": {},
   "outputs": [
    {
     "data": {
      "text/plain": [
       "[(0, 'Первый автор (фамилия, имя, отчество)'),\n",
       " (1, 'Другие авторы (для каждого - фамилия, имя, отчество)'),\n",
       " (2, 'Название публикации (на языке оригинала)'),\n",
       " (3,\n",
       "  'Язык публикации – указывается в соответствии с предоставленным списком языков'),\n",
       " (4, 'Полное название издания (журнала, сборника и т.д.) на языке оригинала'),\n",
       " (5,\n",
       "  'В какую систему цитирования (библиографические и реферативные базы научных публикаций) включено издание'),\n",
       " (6,\n",
       "  'Импакт-фактор издания (журнала, сборника и т.д.) по базе данных Web of Science'),\n",
       " (7, 'ISSN серийного издания'),\n",
       " (8, 'ISBN книги'),\n",
       " (9, 'Вид публикации'),\n",
       " (10, 'Завершенность публикации'),\n",
       " (11, 'Год публикации'),\n",
       " (12, 'Дата направления публикации в печать'),\n",
       " (13, 'Дата принятия публикации в печать'),\n",
       " (14, 'Дата опубликования'),\n",
       " (15, 'Том издания'),\n",
       " (16, 'Номер издания/Выпуск (арабскими цифрами)'),\n",
       " (17,\n",
       "  'Страницы (для статей и тезисов - через дефис, без пробела и без меток «с.», «стр.», «pp.», «p» и т.п.; для монографий – только общее количество страниц) '),\n",
       " (18,\n",
       "  'Полное название издательства (указывается на языке оригинала; для монографий, статей в сборнике, статей в продолжающихся изданиях – обязательно)'),\n",
       " (19,\n",
       "  'Аннотация публикации (для всех публикаций в зарубежных изданиях аннотация должна быть переведена на русский язык)'),\n",
       " (20, 'Идентификатор публикации'),\n",
       " (21, 'Значение идентификатора публикации'),\n",
       " (22, 'Ссылка на веб-страницу публикации на сайте издателя'),\n",
       " (23,\n",
       "  'Дополнительные сведения о публикации (ВНИМАНИЕ: если в поле \"Аннотация публикации\" аннотация выводится на английском языке, в это поле необходимо внести перевод аннотации на русский язык)'),\n",
       " (24,\n",
       "  'Файл публикации. Формат: содержащий текст (предпочтительно - не фото и не скан) PDF-файл, макс. размер - 3 Мб.')]"
      ]
     },
     "execution_count": 3,
     "metadata": {},
     "output_type": "execute_result"
    }
   ],
   "source": [
    "tcols = tabdata.b.unique()\n",
    "list(enumerate(tcols))"
   ]
  },
  {
   "cell_type": "code",
   "execution_count": 4,
   "id": "consolidated-stress",
   "metadata": {},
   "outputs": [],
   "source": [
    "# Выбор строк с авторами, названием публикации и издания, вида публикации, года публикации и даты опубликования\n",
    "rightcols2 = tcols[[0,1,2,4,9,11,14]]\n",
    "t = tabdata[tabdata.b.isin(rightcols2)]"
   ]
  },
  {
   "cell_type": "code",
   "execution_count": 5,
   "id": "canadian-wedding",
   "metadata": {},
   "outputs": [
    {
     "data": {
      "text/plain": [
       "(203, 3)"
      ]
     },
     "execution_count": 5,
     "metadata": {},
     "output_type": "execute_result"
    }
   ],
   "source": [
    "t.shape"
   ]
  },
  {
   "cell_type": "code",
   "execution_count": 6,
   "id": "standing-poultry",
   "metadata": {},
   "outputs": [],
   "source": [
    "# перенумерация первого столбца\n",
    "t = t.assign(a = [i % 7 for i in range(0,203)])"
   ]
  },
  {
   "cell_type": "code",
   "execution_count": 7,
   "id": "actual-appointment",
   "metadata": {},
   "outputs": [],
   "source": [
    "# столбец i теперь содержит номер публикации в этом списке\n",
    "t['i'] = [i // 7 for i in range(0,203)]"
   ]
  },
  {
   "cell_type": "code",
   "execution_count": 8,
   "id": "micro-technique",
   "metadata": {},
   "outputs": [],
   "source": [
    "# создаём вложенный индекс (MultiIndex), номер публикации, номер выбранных данных, из столбцов i и a\n",
    "t = t.set_index(['i','a'])"
   ]
  },
  {
   "cell_type": "code",
   "execution_count": 115,
   "id": "noble-immunology",
   "metadata": {},
   "outputs": [],
   "source": [
    "rightcols = t.iloc[0:7,0]\n",
    "rightcols"
   ]
  },
  {
   "cell_type": "code",
   "execution_count": 9,
   "id": "specialized-silly",
   "metadata": {},
   "outputs": [],
   "source": [
    "del t['b']"
   ]
  },
  {
   "cell_type": "code",
   "execution_count": 10,
   "id": "collectible-latin",
   "metadata": {},
   "outputs": [],
   "source": [
    "# разворачиваем вложенный индекс в таблицу записей о публикациях, теперь каждая строка - отдельная публикация\n",
    "data = t.unstack(level=-1)"
   ]
  },
  {
   "cell_type": "code",
   "execution_count": 12,
   "id": "handy-korean",
   "metadata": {},
   "outputs": [],
   "source": [
    "data.columns = ['a','b','c','d','e','f','g']"
   ]
  },
  {
   "cell_type": "code",
   "execution_count": 23,
   "id": "minimal-serbia",
   "metadata": {},
   "outputs": [
    {
     "data": {
      "text/html": [
       "<div>\n",
       "<style scoped>\n",
       "    .dataframe tbody tr th:only-of-type {\n",
       "        vertical-align: middle;\n",
       "    }\n",
       "\n",
       "    .dataframe tbody tr th {\n",
       "        vertical-align: top;\n",
       "    }\n",
       "\n",
       "    .dataframe thead th {\n",
       "        text-align: right;\n",
       "    }\n",
       "</style>\n",
       "<table border=\"1\" class=\"dataframe\">\n",
       "  <thead>\n",
       "    <tr style=\"text-align: right;\">\n",
       "      <th></th>\n",
       "      <th>Автор</th>\n",
       "      <th>Дата публикации</th>\n",
       "      <th>Наименование издания</th>\n",
       "      <th>Наименование публикации</th>\n",
       "      <th>Вид издания</th>\n",
       "    </tr>\n",
       "    <tr>\n",
       "      <th>i</th>\n",
       "      <th></th>\n",
       "      <th></th>\n",
       "      <th></th>\n",
       "      <th></th>\n",
       "      <th></th>\n",
       "    </tr>\n",
       "  </thead>\n",
       "  <tbody>\n",
       "    <tr>\n",
       "      <th>0</th>\n",
       "      <td>Алексеев Алексей Олегович</td>\n",
       "      <td>2019</td>\n",
       "      <td>Прикладная математика и вопросы управления</td>\n",
       "      <td>Комплексное оценивание сложных объектов в усло...</td>\n",
       "      <td>Статья в журнале</td>\n",
       "    </tr>\n",
       "    <tr>\n",
       "      <th>1</th>\n",
       "      <td>Alekseev Aleksander O., Andronova Aleksandra A...</td>\n",
       "      <td>2019</td>\n",
       "      <td></td>\n",
       "      <td>Development of a Decision Support System for C...</td>\n",
       "      <td>Статья в сборнике</td>\n",
       "    </tr>\n",
       "    <tr>\n",
       "      <th>2</th>\n",
       "      <td>Spirina Varvara, Alekseev Alexander, Andronova...</td>\n",
       "      <td>2019</td>\n",
       "      <td>Advances in Computer Science Research</td>\n",
       "      <td>Analysis and Forecasting of Management Decisio...</td>\n",
       "      <td>Статья в продолжающемся издании</td>\n",
       "    </tr>\n",
       "    <tr>\n",
       "      <th>3</th>\n",
       "      <td>Alekseev Alexander, Galiaskarov Eldar, Koskova...</td>\n",
       "      <td>2019</td>\n",
       "      <td></td>\n",
       "      <td>Application of the Matrix Rating Mechanisms an...</td>\n",
       "      <td>Статья в сборнике</td>\n",
       "    </tr>\n",
       "    <tr>\n",
       "      <th>4</th>\n",
       "      <td>Alekseev Alexander, Salamatina Anna, Kataeva T...</td>\n",
       "      <td>2019</td>\n",
       "      <td></td>\n",
       "      <td>Rating and Control Mechanisms Design in the Pr...</td>\n",
       "      <td>Статья в сборнике</td>\n",
       "    </tr>\n",
       "  </tbody>\n",
       "</table>\n",
       "</div>"
      ],
      "text/plain": [
       "                                               Автор Дата публикации  \\\n",
       "i                                                                      \n",
       "0                          Алексеев Алексей Олегович            2019   \n",
       "1  Alekseev Aleksander O., Andronova Aleksandra A...            2019   \n",
       "2  Spirina Varvara, Alekseev Alexander, Andronova...            2019   \n",
       "3  Alekseev Alexander, Galiaskarov Eldar, Koskova...            2019   \n",
       "4  Alekseev Alexander, Salamatina Anna, Kataeva T...            2019   \n",
       "\n",
       "                         Наименование издания  \\\n",
       "i                                               \n",
       "0  Прикладная математика и вопросы управления   \n",
       "1                                               \n",
       "2       Advances in Computer Science Research   \n",
       "3                                               \n",
       "4                                               \n",
       "\n",
       "                             Наименование публикации  \\\n",
       "i                                                      \n",
       "0  Комплексное оценивание сложных объектов в усло...   \n",
       "1  Development of a Decision Support System for C...   \n",
       "2  Analysis and Forecasting of Management Decisio...   \n",
       "3  Application of the Matrix Rating Mechanisms an...   \n",
       "4  Rating and Control Mechanisms Design in the Pr...   \n",
       "\n",
       "                       Вид издания  \n",
       "i                                   \n",
       "0                 Статья в журнале  \n",
       "1                Статья в сборнике  \n",
       "2  Статья в продолжающемся издании  \n",
       "3                Статья в сборнике  \n",
       "4                Статья в сборнике  "
      ]
     },
     "execution_count": 23,
     "metadata": {},
     "output_type": "execute_result"
    }
   ],
   "source": [
    "data.head()"
   ]
  },
  {
   "cell_type": "code",
   "execution_count": 14,
   "id": "greatest-effort",
   "metadata": {},
   "outputs": [],
   "source": [
    "# создаём поле \"авторы\"\n",
    "data = data.assign(b=', '+data.iloc[:,1][data.iloc[:,1].notna()])\n",
    "\n",
    "data = data.fillna(\"\")\n",
    "\n",
    "data['Автор'] = data.a+data.b"
   ]
  },
  {
   "cell_type": "code",
   "execution_count": 20,
   "id": "expected-exposure",
   "metadata": {},
   "outputs": [],
   "source": [
    "data.rename(columns={\"f\": \"Дата публикации\", \"d\": \"Наименование издания\", \"c\":\"Наименование публикации\", \"e\":\"Вид издания\"},inplace=True)\n",
    "\n",
    "data = data[[\"Автор\", \"Дата публикации\", \"Наименование издания\", \"Наименование публикации\", \"Вид издания\"]]"
   ]
  },
  {
   "cell_type": "code",
   "execution_count": 22,
   "id": "intermediate-model",
   "metadata": {},
   "outputs": [
    {
     "data": {
      "text/html": [
       "<div>\n",
       "<style scoped>\n",
       "    .dataframe tbody tr th:only-of-type {\n",
       "        vertical-align: middle;\n",
       "    }\n",
       "\n",
       "    .dataframe tbody tr th {\n",
       "        vertical-align: top;\n",
       "    }\n",
       "\n",
       "    .dataframe thead th {\n",
       "        text-align: right;\n",
       "    }\n",
       "</style>\n",
       "<table border=\"1\" class=\"dataframe\">\n",
       "  <thead>\n",
       "    <tr style=\"text-align: right;\">\n",
       "      <th></th>\n",
       "      <th>Автор</th>\n",
       "      <th>Дата публикации</th>\n",
       "      <th>Наименование издания</th>\n",
       "      <th>Наименование публикации</th>\n",
       "      <th>Вид издания</th>\n",
       "    </tr>\n",
       "    <tr>\n",
       "      <th>i</th>\n",
       "      <th></th>\n",
       "      <th></th>\n",
       "      <th></th>\n",
       "      <th></th>\n",
       "      <th></th>\n",
       "    </tr>\n",
       "  </thead>\n",
       "  <tbody>\n",
       "    <tr>\n",
       "      <th>0</th>\n",
       "      <td>Алексеев Алексей Олегович</td>\n",
       "      <td>2019</td>\n",
       "      <td>Прикладная математика и вопросы управления</td>\n",
       "      <td>Комплексное оценивание сложных объектов в усло...</td>\n",
       "      <td>Статья в журнале</td>\n",
       "    </tr>\n",
       "    <tr>\n",
       "      <th>1</th>\n",
       "      <td>Alekseev Aleksander O., Andronova Aleksandra A...</td>\n",
       "      <td>2019</td>\n",
       "      <td></td>\n",
       "      <td>Development of a Decision Support System for C...</td>\n",
       "      <td>Статья в сборнике</td>\n",
       "    </tr>\n",
       "    <tr>\n",
       "      <th>2</th>\n",
       "      <td>Spirina Varvara, Alekseev Alexander, Andronova...</td>\n",
       "      <td>2019</td>\n",
       "      <td>Advances in Computer Science Research</td>\n",
       "      <td>Analysis and Forecasting of Management Decisio...</td>\n",
       "      <td>Статья в продолжающемся издании</td>\n",
       "    </tr>\n",
       "    <tr>\n",
       "      <th>3</th>\n",
       "      <td>Alekseev Alexander, Galiaskarov Eldar, Koskova...</td>\n",
       "      <td>2019</td>\n",
       "      <td></td>\n",
       "      <td>Application of the Matrix Rating Mechanisms an...</td>\n",
       "      <td>Статья в сборнике</td>\n",
       "    </tr>\n",
       "    <tr>\n",
       "      <th>4</th>\n",
       "      <td>Alekseev Alexander, Salamatina Anna, Kataeva T...</td>\n",
       "      <td>2019</td>\n",
       "      <td></td>\n",
       "      <td>Rating and Control Mechanisms Design in the Pr...</td>\n",
       "      <td>Статья в сборнике</td>\n",
       "    </tr>\n",
       "  </tbody>\n",
       "</table>\n",
       "</div>"
      ],
      "text/plain": [
       "                                               Автор Дата публикации  \\\n",
       "i                                                                      \n",
       "0                          Алексеев Алексей Олегович            2019   \n",
       "1  Alekseev Aleksander O., Andronova Aleksandra A...            2019   \n",
       "2  Spirina Varvara, Alekseev Alexander, Andronova...            2019   \n",
       "3  Alekseev Alexander, Galiaskarov Eldar, Koskova...            2019   \n",
       "4  Alekseev Alexander, Salamatina Anna, Kataeva T...            2019   \n",
       "\n",
       "                         Наименование издания  \\\n",
       "i                                               \n",
       "0  Прикладная математика и вопросы управления   \n",
       "1                                               \n",
       "2       Advances in Computer Science Research   \n",
       "3                                               \n",
       "4                                               \n",
       "\n",
       "                             Наименование публикации  \\\n",
       "i                                                      \n",
       "0  Комплексное оценивание сложных объектов в усло...   \n",
       "1  Development of a Decision Support System for C...   \n",
       "2  Analysis and Forecasting of Management Decisio...   \n",
       "3  Application of the Matrix Rating Mechanisms an...   \n",
       "4  Rating and Control Mechanisms Design in the Pr...   \n",
       "\n",
       "                       Вид издания  \n",
       "i                                   \n",
       "0                 Статья в журнале  \n",
       "1                Статья в сборнике  \n",
       "2  Статья в продолжающемся издании  \n",
       "3                Статья в сборнике  \n",
       "4                Статья в сборнике  "
      ]
     },
     "execution_count": 22,
     "metadata": {},
     "output_type": "execute_result"
    }
   ],
   "source": [
    "data.head()"
   ]
  },
  {
   "cell_type": "code",
   "execution_count": 171,
   "id": "adverse-junior",
   "metadata": {},
   "outputs": [],
   "source": [
    "data.to_clipboard()"
   ]
  }
 ],
 "metadata": {
  "kernelspec": {
   "display_name": "Python 3",
   "language": "python",
   "name": "python3"
  },
  "language_info": {
   "codemirror_mode": {
    "name": "ipython",
    "version": 3
   },
   "file_extension": ".py",
   "mimetype": "text/x-python",
   "name": "python",
   "nbconvert_exporter": "python",
   "pygments_lexer": "ipython3",
   "version": "3.8.5"
  }
 },
 "nbformat": 4,
 "nbformat_minor": 5
}
